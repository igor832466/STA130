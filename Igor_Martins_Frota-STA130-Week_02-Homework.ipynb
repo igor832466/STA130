{
 "cells": [
  {
   "cell_type": "markdown",
   "id": "dd48bc01",
   "metadata": {},
   "source": [
    "Igor Martins Frota\n",
    "\n",
    "1011330490"
   ]
  },
  {
   "cell_type": "markdown",
   "id": "501507de",
   "metadata": {},
   "source": [
    "# Pre-Lecture"
   ]
  },
  {
   "cell_type": "markdown",
   "id": "d82035da",
   "metadata": {},
   "source": [
    "## 1."
   ]
  },
  {
   "cell_type": "markdown",
   "id": "e6b1bbe4",
   "metadata": {},
   "source": [
    "Done with ChatGPT (please refer to the ChatGPT Session Link)"
   ]
  },
  {
   "cell_type": "markdown",
   "id": "7d6aeb54",
   "metadata": {},
   "source": [
    "## 2."
   ]
  },
  {
   "cell_type": "markdown",
   "id": "c58d1f43",
   "metadata": {},
   "source": [
    "Done with ChatGPT (please refer to the ChatGPT Session Link)"
   ]
  },
  {
   "cell_type": "markdown",
   "id": "033eed34",
   "metadata": {},
   "source": [
    "## 3."
   ]
  },
  {
   "cell_type": "markdown",
   "id": "a9b29356",
   "metadata": {},
   "source": [
    "Prefered version of the Monty Hall problem:"
   ]
  },
  {
   "cell_type": "code",
   "execution_count": 21,
   "id": "824d9d7b",
   "metadata": {},
   "outputs": [
    {
     "data": {
      "text/plain": [
       "0.66713"
      ]
     },
     "execution_count": 21,
     "metadata": {},
     "output_type": "execute_result"
    }
   ],
   "source": [
    "import numpy as np\n",
    "\n",
    "all_door_options = (1, 2, 3)\n",
    "my_door_choice = 1\n",
    "i_won = 0\n",
    "reps = 100000\n",
    "\n",
    "for i in range(reps):\n",
    "    secret_winning_door = np.random.choice(all_door_options)\n",
    "    goat_door_reveal = np.random.choice([door for door in all_door_options if door != my_door_choice and door != secret_winning_door])\n",
    "    my_door_choice = [door for door in all_door_options if door != my_door_choice and door != goat_door_reveal][0]\n",
    "    if my_door_choice == secret_winning_door:\n",
    "        i_won += 1\n",
    "\n",
    "i_won / reps\n"
   ]
  },
  {
   "cell_type": "markdown",
   "id": "80e2a13e",
   "metadata": {},
   "source": [
    "Explanation:"
   ]
  },
  {
   "cell_type": "code",
   "execution_count": 24,
   "id": "bc222000",
   "metadata": {},
   "outputs": [
    {
     "data": {
      "text/plain": [
       "0.66749"
      ]
     },
     "execution_count": 24,
     "metadata": {},
     "output_type": "execute_result"
    }
   ],
   "source": [
    "import numpy as np\n",
    "\n",
    "all_door_options = (1, 2, 3) \n",
    "# tuple with all three doors\n",
    "\n",
    "my_door_choice = 1 \n",
    "# the door the player chooses (always door 1)\n",
    "\n",
    "i_won = 0 \n",
    "# initial count of how many times the player has won\n",
    "\n",
    "reps = 100000 \n",
    "# this tells Python to repeat the simulation 100,000 times\n",
    "\n",
    "for i in range(reps):  \n",
    "# starts a ``for`` loop that runs the loop a certain number of times (reps) (over here it is 100,000 times)\n",
    "    \n",
    "    secret_winning_door = np.random.choice(all_door_options)\n",
    "    # randomly chooses a door to be the winning door\n",
    "    \n",
    "    goat_door_reveal = np.random.choice([door for door in all_door_options if door != my_door_choice and door != secret_winning_door])\n",
    "    # creates a list of doors that do not include the player's choice and the secret winning door and randomly chooses a door from the list to be revealed as a goat door\n",
    "    \n",
    "    my_door_choice = [door for door in all_door_options if door != my_door_choice and door != goat_door_reveal][0]\n",
    "    # this changes the player's choice from the original door to another that is not the goat reveal door\n",
    "    \n",
    "    if my_door_choice == secret_winning_door:\n",
    "    # if the new door is the same as the secret winning door, the player wins the game\n",
    "    \n",
    "        i_won += 1\n",
    "        # add 1 to the counter of total times won\n",
    "\n",
    "i_won / reps\n",
    "# calculates the win rate (which should be around 2/3)"
   ]
  },
  {
   "cell_type": "markdown",
   "id": "2d36d808",
   "metadata": {},
   "source": [
    "## 1. to 3. ChatGPT Session Summary"
   ]
  },
  {
   "cell_type": "markdown",
   "id": "c262b71d",
   "metadata": {},
   "source": [
    "\"\n",
    "1. **Monty Hall Problem Code Explanation**:\n",
    "   - You provided a Python script simulating the Monty Hall problem, where a player always switches doors after Monty reveals a goat door. I explained how each part of the code works, including random door selection, removing doors, and switching strategies.\n",
    "\n",
    "2. **Streamlined Version**:\n",
    "   - I suggested a more concise version of the `for` loop, using list comprehensions to make the code easier to read and avoiding unnecessary steps like modifying lists in place.\n",
    "\n",
    "3. **Debugging the Streamlined Code**:\n",
    "   - You pointed out that the simplified version didn't work as expected. After reviewing, I identified the problem: the random goat door selection. I fixed this by directly selecting the remaining \"goat\" door when Monty can only reveal one valid door.\n",
    "\n",
    "### Outcome:\n",
    "- The final, corrected code provides a streamlined and functional simulation of the Monty Hall problem, where switching doors results in a win probability of approximately **2/3**.\n",
    "\n",
    "\""
   ]
  },
  {
   "cell_type": "markdown",
   "id": "9e02ad9c",
   "metadata": {},
   "source": [
    "## 1. to 3. ChaptGPT Session Link"
   ]
  },
  {
   "cell_type": "markdown",
   "id": "0cd67d10",
   "metadata": {},
   "source": [
    "[STA130 - Week 02 - Homework - Questions 1-3](https://chatgpt.com/share/66eb10be-a54c-8001-8f18-dd27b54d6e01)"
   ]
  },
  {
   "cell_type": "markdown",
   "id": "df29c690",
   "metadata": {},
   "source": [
    "## 4.\n",
    "\n",
    "Done with ChatGPT (please see below)."
   ]
  },
  {
   "cell_type": "markdown",
   "id": "7d632e94",
   "metadata": {},
   "source": [
    "## 4. ChapGT Session Summary"
   ]
  },
  {
   "cell_type": "markdown",
   "id": "b36b7671",
   "metadata": {},
   "source": [
    "\"\n",
    "1. **Unigram Markov Model**:\n",
    "   - This model predicts the next word based on a single previous word.\n",
    "   - The code tracks how often each word appears and what word follows it.\n",
    "   - It builds two dictionaries: `word_used` (counts how often each word appears) and `next_word` (tracks what words follow each word).\n",
    "\n",
    "2. **Bigram Markov Model**:\n",
    "   - This model predicts the next word based on the previous two words (bigram).\n",
    "   - The code creates bigrams (two-word pairs) and tracks how often each one occurs using `word_used2`. It also tracks which word follows each bigram with `next_word2`.\n",
    "\n",
    "3. **Character-Specific Bigram Markov Model**:\n",
    "   - This model extends the bigram approach by considering the **character** speaking. It tracks bigrams and next-word predictions separately for each character.\n",
    "   - The code identifies character names, builds bigrams based on their dialogue, and tracks word usage and next-word predictions for each character.\n",
    "   - Two nested dictionaries (`word_used2C` and `next_word2C`) store how often each character uses specific bigrams and what words follow them.\n",
    "\n",
    "You also requested a detailed breakdown of the character-specific bigram model, which we went through line-by-line to clarify how the code operates to handle multiple speakers and track their unique speech patterns.\n",
    "\n",
    "\""
   ]
  },
  {
   "cell_type": "markdown",
   "id": "84a43412",
   "metadata": {},
   "source": [
    "## 4. ChaptGPT Session Link"
   ]
  },
  {
   "cell_type": "markdown",
   "id": "9bb6e3d0",
   "metadata": {},
   "source": [
    "[STA130 - Week 02 - Homework - Question 4](https://chatgpt.com/share/66eccecc-cd50-8001-a7bb-3c848df84b23)"
   ]
  },
  {
   "cell_type": "markdown",
   "id": "a7b530bf",
   "metadata": {},
   "source": [
    "# Post-lecture"
   ]
  },
  {
   "cell_type": "markdown",
   "id": "a2c69b32",
   "metadata": {},
   "source": [
    "## 5."
   ]
  },
  {
   "cell_type": "markdown",
   "id": "fe91f868",
   "metadata": {},
   "source": [
    "### 1.\n",
    "\n",
    "#### ChatGPT Session Summary\n",
    "\n",
    "\"\n",
    "1. **Initial Markov Chain Code**: \n",
    "   - You shared code for a Markovian chatbot that builds a transition model based on word frequencies. The model tracks how often each word appears and predicts the next word based on these counts.\n",
    "\n",
    "2. **Extensions to the Code**:\n",
    "   - **Extension 1 (Bigrams)**: You introduced an improved version of the chatbot that considers **bigrams** (pairs of words) when predicting the next word. This adds more context, resulting in smoother transitions between words.\n",
    "   - **Extension 2 (Character-Specific)**: Another version was shared that models word transitions on a **character-specific** basis, creating separate Markov models for each character's speech patterns. This enables the chatbot to mimic dialogue for different personas or characters.\n",
    "\n",
    "3. **Further Improvements Discussed**:\n",
    "   - Adding **probabilistic sampling** to predict the next word.\n",
    "   - Applying **smoothing** to handle unseen word combinations.\n",
    "   - Implementing strategies for starting conversations and making responses more varied and dynamic.\n",
    "\"\n",
    "\n",
    "#### ChatGPT Session Link\n",
    "\n",
    "[STA130 - Week 02 - Homework - Question 5.1.](https://chatgpt.com/share/66ecdc83-5308-8001-8a04-fd28376f9ffd)"
   ]
  },
  {
   "cell_type": "markdown",
   "id": "f086f857",
   "metadata": {},
   "source": [
    "### 2.\n",
    "\n",
    "Did this step with question 4. (please see above)."
   ]
  },
  {
   "cell_type": "markdown",
   "id": "cb44e290",
   "metadata": {},
   "source": [
    "### 3.\n",
    "\n",
    "#### ChatGPT Session Summary\n",
    "\n",
    "\"\n",
    "\n",
    "In our conversation, you presented two code blocks for a **Markovian chatbot**, and we discussed the potential missing connection between them. Here's a summary:\n",
    "\n",
    "1. **First Code Block**: \n",
    "   - Implements a **first-order Markov chain**, where the chatbot predicts the next word based on the current word. It tracks how many times each word is used and how frequently each word follows another word.\n",
    "   \n",
    "2. **Second Code Block**: \n",
    "   - Extends this to a **second-order Markov chain** that uses pairs of consecutive words (bigrams) to predict the next word, with an additional focus on **character-specific dialogue**. It tracks how often characters use certain word pairs and which words follow those pairs.\n",
    "   - The second block uses `avatar.character`, but it wasn't clear how this connected to the first block or the tokenized `words` list.\n",
    "\n",
    "3. **Missing Part**:\n",
    "   - The likely missing piece is a **bigrams generation step**. To connect the first block (single-word transitions) with the second block (bigram transitions), you would need to preprocess the `words` list to create bigrams.\n",
    "   - I suggested a method for generating bigrams and incorporating them into the second block, allowing it to work as a second-order Markov chain.\n",
    "\n",
    "In essence, the main gap is the transition from single-word chains to bigram-based chains and ensuring the dialogue is tracked per character.\n",
    "\n",
    "\"\n",
    "\n",
    "#### ChatGPT Session Link\n",
    "\n",
    "[STA130 - Week 02 - Homework - Question 5.3.](https://chatgpt.com/share/66ece1fa-810c-8001-9f9b-50a7d9c22a8d)"
   ]
  },
  {
   "cell_type": "markdown",
   "id": "2218c540",
   "metadata": {},
   "source": [
    "## 6.\n",
    "\n",
    "### 1. \n",
    "\n",
    "The ChatBot was quickly able to be helpful for all the questions above. It answered all my questions and commands correctly without any issue. The only exception is question 5.3., where it was not able to identify what was missing between the original \"Markovian ChatBot code\" and its more complicated extension. ChatGPT falsely assumed that there were things missing in the original code or that there wasn't enough of a link between the two blocks of code.\n",
    "\n",
    "### 2.\n",
    "\n",
    "I found interacting with ChatGPT to be helpful and not frustrating. Being able to give it a block of code (such as the \"Markovian ChatBot code\"), asking ChatGPT to give me a step-by-step explanation of the code, and ask specific questions about certain parts is something I found to be quite useful. Doing this also helped me save a lot of time that would have gone to manually searching the internet for the correct solution and not being able to answer various questions I have.\n",
    "\n",
    "### 3.\n",
    "\n",
    "I found ChatBots to be helpful tools to understand code. As stated above in question 6.2., ChatGPT helped me save a lot of time by asking it questions and getting answers in a few second, rather than having to spend a much longer amount of time either searching the internet for an answer or asking another person. Additionally, ChatBots can very quickly and efficiently process and provide solutions to mistakes in code that I could not catch, which also helps me save a lot of time. Overall, while I would not outsource my work to ChatBots, I would still use them to help me both understand code and find errors that I could not."
   ]
  },
  {
   "cell_type": "markdown",
   "id": "5c3da47c",
   "metadata": {},
   "source": [
    "## 7.\n",
    "\n",
    "My experience interacting with ChatBots have changed my perception by making me realize that they can be used to help analyze data. Before this course, I pictured ChatBots as systems that do the entire work for the user, but now I can see that they can also be used to help the user. In the context of this course, ChatBots can help users with the tedious parts of coding and analyzing data. This includes being able to spot hidden errors in code, helping users simplify their code if needed, and aid in understanding data and statistics that the user could not have otherwise noticed."
   ]
  },
  {
   "cell_type": "markdown",
   "id": "970e01e0",
   "metadata": {},
   "source": [
    "## 8."
   ]
  },
  {
   "cell_type": "markdown",
   "id": "e3be6b1f",
   "metadata": {},
   "source": [
    "### 1. and 2.\n",
    "\n",
    "#### ChatGPT Session Summary\n",
    "\n",
    "\"\n",
    "\n",
    "1. **Learning and Adaptability Skills**: We discussed the importance of learning and adaptability in the modern job market, particularly in data science. Key skills include staying updated with rapidly evolving technologies, cross-disciplinary knowledge, continuous innovation, and effective communication.\n",
    "\n",
    "2. **Essential Skills for Data Science**: We highlighted critical skills for data scientists, including:\n",
    "   - **Communication**: Translating complex data insights to non-technical stakeholders.\n",
    "   - **Coding**: Proficiency in languages like Python or R for data manipulation and model building.\n",
    "   - **Statistics and Data Analysis**: Understanding statistical methods and conducting exploratory data analysis.\n",
    "\n",
    "3. **Career Paths Without Coding or Data Analysis**: We noted that while there are roles related to data science (like data science managers or product managers) that may involve less coding or direct analysis, having a foundational understanding of these skills is often crucial.\n",
    "\n",
    "4. **Skills for a Career in Economics**: For someone with a background in economics and statistics, we identified key skills, including:\n",
    "   - **Quantitative Skills**: Advanced statistical analysis and mathematical proficiency.\n",
    "   - **Programming Skills**: Familiarity with statistical software and data manipulation tools.\n",
    "   - **Economic Theory**: Strong understanding of micro and macroeconomics.\n",
    "\n",
    "5. **Econometrics**: We explored econometrics, covering:\n",
    "   - **What You Would Do**: Analyze data, develop models, test hypotheses, evaluate policies, and forecast economic trends.\n",
    "   - **What’s Involved**: Statistical theory, regression analysis, time series analysis, and hypothesis testing.\n",
    "   - **What You Would Study**: Statistical methods, econometric theory, advanced techniques, and software proficiency.\n",
    "   - **Career Applications**: Roles like research analyst, policy advisor, financial analyst, consultant, and academic positions.\n",
    "\n",
    "This comprehensive overview captures the key points of our discussion about the relevance of skills in data science and economics.\n",
    "\n",
    "\"\n",
    "\n",
    "#### ChatGPT Session Link\n",
    "\n",
    "[STA130 - Week 02 - Homework - Question 8](https://chatgpt.com/share/66ecef53-293c-8001-b576-7b09e7e55f97)"
   ]
  },
  {
   "cell_type": "markdown",
   "id": "1317fede",
   "metadata": {},
   "source": [
    "### 4.\n",
    "\n",
    "To build the skills I need to pursue a potential career in economics, I would need to have a strong foundation in statistics, data science, and mathematics (specifically linear algebra, optimization, and calculus). I would also need to be profficient in programming languages such as Python and R, as these are both used in economics for different tasks. I would go about building these skills by taking and studying the required courses and material and possibily even extending my educational career to obtain a Master's Degree in Economics or Econometrics.\n",
    "\n",
    "### 5.\n",
    "\n",
    "I found my conversation with ChatGPT to be insightful and interesting, as it allowed me to learn a lot about my potential career and what I would need to do to get there. The only limitation I noticed is that sometimes ChatGPT would provide too much information and text, which not only disrupted the natural conversation flow, but also was simply exessive and could have been condensed into fewer sentences. The next steps I would take invole asking ChatGPT to provide less information. With regards to the \"level\" of information provided, I felt that it was appropriate and not too high-levelled, as I was able to follow along and understand while also learning a lot about the subject at hand."
   ]
  },
  {
   "cell_type": "markdown",
   "id": "c71ea916",
   "metadata": {},
   "source": [
    "## 9.\n",
    "\n",
    "Somewhat; I have used ChatGPT and material from lessons and tutorials to help me understand the course material more than I have used the textbook."
   ]
  }
 ],
 "metadata": {
  "kernelspec": {
   "display_name": "Python 3 (ipykernel)",
   "language": "python",
   "name": "python3"
  },
  "language_info": {
   "codemirror_mode": {
    "name": "ipython",
    "version": 3
   },
   "file_extension": ".py",
   "mimetype": "text/x-python",
   "name": "python",
   "nbconvert_exporter": "python",
   "pygments_lexer": "ipython3",
   "version": "3.11.6"
  }
 },
 "nbformat": 4,
 "nbformat_minor": 5
}
