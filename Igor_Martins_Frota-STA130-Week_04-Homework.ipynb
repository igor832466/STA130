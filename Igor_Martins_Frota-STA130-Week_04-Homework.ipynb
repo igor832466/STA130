{
 "cells": [
  {
   "cell_type": "markdown",
   "id": "bf03bd22",
   "metadata": {},
   "source": [
    "Igor Martins Frota\n",
    "\n",
    "Student Number: 1011330490\n",
    "\n",
    "03-10-2024"
   ]
  },
  {
   "cell_type": "markdown",
   "id": "ded8ba6b",
   "metadata": {},
   "source": [
    "# Pre-lecture"
   ]
  },
  {
   "cell_type": "markdown",
   "id": "c0c8638b",
   "metadata": {},
   "source": [
    "## 1."
   ]
  },
  {
   "cell_type": "markdown",
   "id": "a2e8371d",
   "metadata": {},
   "source": [
    "The \"**Standard Deviation (SD)**\" is the measure of a dataset's disperson relative to its mean (i.e. it indicates the distance of individual data points relative to the mean).\n",
    "\n",
    "The \"**Standard Error of the Mean (SEM)**\", by contrast, is how inaccurate the standard deviation of the sampling distribution of the sample mean is in comparison to the true population mean.\n",
    "\n",
    "The difference between the SD and the SEM is that the former measures how far apart individual values are from the mean, while the SEM measures how accurate the sample mean is to the true population mean. Thus, while both measure the distance from the mean, the SD measures the distance between values and the mean while the SEM measures the distance between the sample mean and the population mean."
   ]
  },
  {
   "cell_type": "markdown",
   "id": "6471c4ac",
   "metadata": {},
   "source": [
    "### ChatGPT Session Summary\n",
    "\"\n",
    "1. **Standard Deviation (SD)**:\n",
    "   - Measures the spread of data points around the mean in a dataset.\n",
    "   - A larger SD indicates greater variability among the data points.\n",
    "\n",
    "2. **Standard Error of the Mean (SEM)**:\n",
    "   - Measures how much the sample mean is expected to vary from the true population mean.\n",
    "   - Calculated using the formula: \n",
    "     \\[\n",
    "     \\text{SEM} = \\frac{\\text{SD}}{\\sqrt{N}}\n",
    "     \\]\n",
    "     Where \\( N \\) is the sample size.\n",
    "\n",
    "3. **Sampling Distribution of the Sample Mean**:\n",
    "   - Refers to the distribution of means from many random samples of the same size taken from a population.\n",
    "   - If you plot these sample means, you typically get a normal distribution, especially with larger sample sizes due to the Central Limit Theorem.\n",
    "\n",
    "4. **True Population Mean**:\n",
    "   - The actual average of all values in a population, denoted by \\( \\mu \\).\n",
    "   - It’s often unknown and estimated using the sample mean.\n",
    "\n",
    "5. **Sample Mean**:\n",
    "   - The average calculated from a single sample, denoted by \\( \\bar{x} \\).\n",
    "   - Used to estimate the true population mean.\n",
    "\n",
    "6. **Standard Error vs. Sampling Distribution**:\n",
    "   - The **Standard Error** is a single value that indicates how much the sample mean might vary from the population mean.\n",
    "   - The **Sampling Distribution** is the entire distribution of all possible sample means if you were to take many samples.\n",
    "\n",
    "7. **Difference Between Spread and Distribution**:\n",
    "   - **Distribution** describes the overall shape and arrangement of data points (e.g., normal, uniform).\n",
    "   - **Spread** refers to the variability or range of the data (e.g., how far apart data points are from each other).\n",
    "\n",
    "This session covered fundamental statistical concepts related to sampling, variability, and how we use samples to make inferences about populations. If you have any further questions or need clarification on any of these points, feel free to ask!\n",
    "\""
   ]
  },
  {
   "cell_type": "markdown",
   "id": "e3c850dd",
   "metadata": {},
   "source": [
    "### ChatGPT Session Link\n",
    "[STA130 - Week 04 - Homework - Question 1](https://chatgpt.com/share/66ff10bb-1064-8001-ba0c-38d04bd3d850)"
   ]
  },
  {
   "cell_type": "markdown",
   "id": "69bf124f",
   "metadata": {},
   "source": [
    "# Post-lecture"
   ]
  },
  {
   "cell_type": "markdown",
   "id": "9e3132bf",
   "metadata": {},
   "source": [
    "## 6.\n",
    "\n",
    "### 1.\n",
    "\n",
    "Bootstrapping is a process where we basically start off with creating a set of data called a \"Bootstrapped Dataset\". So, we do this by randomly selecting values from the original set (and if we get a value more than one time that's ok). We want to keep doing this until we have the same total number of values as our original set. Afterwards, we calculate any statistic we want to (such as the average or the middle value), and we keep track of the value of the statistic (such as by plotting it on a graph). We keep repeating this process a certian number of times, and at the end, we look at our graph and determine which values occur most often.\n",
    "\n",
    "### 2. \n",
    "\n",
    "The purpose of bootstrapping is basically to mathematically repeat an experiment multiple times so that we can see which values occur the most. This is good for two main reasons: \n",
    "1. Bootstrapping is sometimes better than just repeating the experiment itself, which can take a large amount of time and money.\n",
    "2. We can avoid external factors that may influence the results by re-running the experiment itself\n",
    "\n",
    "### 3.\n",
    "\n",
    "Bootstrapping can be used to asses whether or not this guess might be plausible by figuring out if it is in the 95% confidence interval. Basically, the confidence interval is a range encompasing 95% of the resulting statistics after Bootstrapped the dataset. As a result, we can say that we are 95% confident that the actual true population statistic is inside this range."
   ]
  },
  {
   "cell_type": "markdown",
   "id": "4e4be101",
   "metadata": {},
   "source": [
    "# 8."
   ]
  },
  {
   "cell_type": "code",
   "execution_count": 8,
   "id": "8a8b35e4",
   "metadata": {},
   "outputs": [
    {
     "name": "stdout",
     "output_type": "stream",
     "text": [
      "   Patient_ID  Age Gender  Initial_Health_Score  Final_Health_Score\n",
      "0           1   45      M                    84                  86\n",
      "1           2   34      F                    78                  86\n",
      "2           3   29      M                    83                  80\n",
      "3           4   52      F                    81                  86\n",
      "4           5   37      M                    81                  84\n",
      "5           6   41      F                    80                  86\n",
      "6           7   33      M                    79                  86\n",
      "7           8   48      F                    85                  82\n",
      "8           9   26      M                    76                  83\n",
      "9          10   39      F                    83                  84\n"
     ]
    }
   ],
   "source": [
    "import pandas as pd\n",
    "from io import StringIO\n",
    "\n",
    "AliTech_New_Vaccine_Results = \"\"\"Patient_ID,Age,Gender,Initial_Health_Score,Final_Health_Score\n",
    "1, 45, M, 84, 86\n",
    "2, 34, F, 78, 86\n",
    "3, 29, M, 83, 80\n",
    "4, 52, F, 81, 86\n",
    "5, 37, M, 81, 84\n",
    "6, 41, F, 80, 86\n",
    "7, 33, M, 79, 86\n",
    "8, 48, F, 85, 82\n",
    "9, 26, M, 76, 83\n",
    "10, 39, F, 83, 84\n",
    "\"\"\"\n",
    "\n",
    "data = StringIO(AliTech_New_Vaccine_Results)\n",
    "df = pd.read_csv(data)\n",
    "df.to_csv('AliTech_New_Vaccine_Results.csv', index=False)\n",
    "print(df)"
   ]
  },
  {
   "cell_type": "markdown",
   "id": "fbb7eaf2",
   "metadata": {},
   "source": [
    "## Problem Introduction\n",
    "\n",
    "A Null hypothesis of \"no effect\" refers to a hypothesis that claims, after analyzing the data using various methods such as bootstrapping, the vaccine has no effect in changing the final health score of patients."
   ]
  },
  {
   "cell_type": "code",
   "execution_count": 9,
   "id": "2c7903b4",
   "metadata": {},
   "outputs": [
    {
     "data": {
      "text/html": [
       "<div>\n",
       "<style scoped>\n",
       "    .dataframe tbody tr th:only-of-type {\n",
       "        vertical-align: middle;\n",
       "    }\n",
       "\n",
       "    .dataframe tbody tr th {\n",
       "        vertical-align: top;\n",
       "    }\n",
       "\n",
       "    .dataframe thead th {\n",
       "        text-align: right;\n",
       "    }\n",
       "</style>\n",
       "<table border=\"1\" class=\"dataframe\">\n",
       "  <thead>\n",
       "    <tr style=\"text-align: right;\">\n",
       "      <th></th>\n",
       "      <th>Patient_ID</th>\n",
       "      <th>Age</th>\n",
       "      <th>Gender</th>\n",
       "      <th>Initial_Health_Score</th>\n",
       "      <th>Final_Health_Score</th>\n",
       "      <th>Change_in_Health_Score</th>\n",
       "    </tr>\n",
       "  </thead>\n",
       "  <tbody>\n",
       "    <tr>\n",
       "      <th>0</th>\n",
       "      <td>1</td>\n",
       "      <td>45</td>\n",
       "      <td>M</td>\n",
       "      <td>84</td>\n",
       "      <td>86</td>\n",
       "      <td>2</td>\n",
       "    </tr>\n",
       "    <tr>\n",
       "      <th>1</th>\n",
       "      <td>2</td>\n",
       "      <td>34</td>\n",
       "      <td>F</td>\n",
       "      <td>78</td>\n",
       "      <td>86</td>\n",
       "      <td>8</td>\n",
       "    </tr>\n",
       "    <tr>\n",
       "      <th>2</th>\n",
       "      <td>3</td>\n",
       "      <td>29</td>\n",
       "      <td>M</td>\n",
       "      <td>83</td>\n",
       "      <td>80</td>\n",
       "      <td>-3</td>\n",
       "    </tr>\n",
       "    <tr>\n",
       "      <th>3</th>\n",
       "      <td>4</td>\n",
       "      <td>52</td>\n",
       "      <td>F</td>\n",
       "      <td>81</td>\n",
       "      <td>86</td>\n",
       "      <td>5</td>\n",
       "    </tr>\n",
       "    <tr>\n",
       "      <th>4</th>\n",
       "      <td>5</td>\n",
       "      <td>37</td>\n",
       "      <td>M</td>\n",
       "      <td>81</td>\n",
       "      <td>84</td>\n",
       "      <td>3</td>\n",
       "    </tr>\n",
       "    <tr>\n",
       "      <th>5</th>\n",
       "      <td>6</td>\n",
       "      <td>41</td>\n",
       "      <td>F</td>\n",
       "      <td>80</td>\n",
       "      <td>86</td>\n",
       "      <td>6</td>\n",
       "    </tr>\n",
       "    <tr>\n",
       "      <th>6</th>\n",
       "      <td>7</td>\n",
       "      <td>33</td>\n",
       "      <td>M</td>\n",
       "      <td>79</td>\n",
       "      <td>86</td>\n",
       "      <td>7</td>\n",
       "    </tr>\n",
       "    <tr>\n",
       "      <th>7</th>\n",
       "      <td>8</td>\n",
       "      <td>48</td>\n",
       "      <td>F</td>\n",
       "      <td>85</td>\n",
       "      <td>82</td>\n",
       "      <td>-3</td>\n",
       "    </tr>\n",
       "    <tr>\n",
       "      <th>8</th>\n",
       "      <td>9</td>\n",
       "      <td>26</td>\n",
       "      <td>M</td>\n",
       "      <td>76</td>\n",
       "      <td>83</td>\n",
       "      <td>7</td>\n",
       "    </tr>\n",
       "    <tr>\n",
       "      <th>9</th>\n",
       "      <td>10</td>\n",
       "      <td>39</td>\n",
       "      <td>F</td>\n",
       "      <td>83</td>\n",
       "      <td>84</td>\n",
       "      <td>1</td>\n",
       "    </tr>\n",
       "  </tbody>\n",
       "</table>\n",
       "</div>"
      ],
      "text/plain": [
       "   Patient_ID  Age Gender  Initial_Health_Score  Final_Health_Score  \\\n",
       "0           1   45      M                    84                  86   \n",
       "1           2   34      F                    78                  86   \n",
       "2           3   29      M                    83                  80   \n",
       "3           4   52      F                    81                  86   \n",
       "4           5   37      M                    81                  84   \n",
       "5           6   41      F                    80                  86   \n",
       "6           7   33      M                    79                  86   \n",
       "7           8   48      F                    85                  82   \n",
       "8           9   26      M                    76                  83   \n",
       "9          10   39      F                    83                  84   \n",
       "\n",
       "   Change_in_Health_Score  \n",
       "0                       2  \n",
       "1                       8  \n",
       "2                      -3  \n",
       "3                       5  \n",
       "4                       3  \n",
       "5                       6  \n",
       "6                       7  \n",
       "7                      -3  \n",
       "8                       7  \n",
       "9                       1  "
      ]
     },
     "execution_count": 9,
     "metadata": {},
     "output_type": "execute_result"
    }
   ],
   "source": [
    "df['Change_in_Health_Score'] = df['Final_Health_Score'] - df['Initial_Health_Score']\n",
    "df"
   ]
  },
  {
   "cell_type": "code",
   "execution_count": 10,
   "id": "a295af1e",
   "metadata": {
    "scrolled": false
   },
   "outputs": [
    {
     "data": {
      "image/png": "[encoded data removed]"
     },
     "metadata": {},
     "output_type": "display_data"
    }
   ],
   "source": [
    "import plotly.express as px\n",
    "\n",
    "# Creating a histogram for the difference in health scores\n",
    "\n",
    "df['Score_Type'] = df['Change_in_Health_Score'].apply(lambda x: 'green' if x > 0 else 'red')\n",
    "fig = px.histogram(df, x=\"Patient_ID\", y=\"Change_in_Health_Score\", nbins=15,\n",
    "                   title='Change in Health Score of Participants',\n",
    "                   color='Score_Type',\n",
    "                   color_discrete_map={'green': 'green', 'red': 'red'})\n",
    "fig.show(renderer=\"png\")"
   ]
  },
  {
   "cell_type": "markdown",
   "id": "80009677",
   "metadata": {},
   "source": [
    "As the purpose of this analysis is to determine whether the vaccine has an effect or not, this graph gives a visual representation of the effect. By calculating the change in health scores of participants and displaying the results on a histogram, it is clear that, for 80% of participants, the vaccine improved their health score."
   ]
  },
  {
   "cell_type": "markdown",
   "id": "864ebdd0",
   "metadata": {},
   "source": [
    "## Quantitative Analysis"
   ]
  },
  {
   "cell_type": "code",
   "execution_count": 11,
   "id": "6f6249bb",
   "metadata": {},
   "outputs": [
    {
     "name": "stdout",
     "output_type": "stream",
     "text": [
      "4.875\n"
     ]
    }
   ],
   "source": [
    "filtered_data = df[df['Change_in_Health_Score'] > 0]\n",
    "mean_value_delta_health_score_greater_0 = filtered_data['Change_in_Health_Score'].mean()\n",
    "print(mean_value_delta_health_score_greater_0)"
   ]
  },
  {
   "cell_type": "markdown",
   "id": "3d5a1992",
   "metadata": {},
   "source": [
    "As shown by this caluclation, for participants who benefited from the vaccine, they saw an average of a 4.875 point increase in their health score."
   ]
  },
  {
   "cell_type": "code",
   "execution_count": 12,
   "id": "90c7dbab",
   "metadata": {},
   "outputs": [
    {
     "name": "stdout",
     "output_type": "stream",
     "text": [
      "3.3\n"
     ]
    }
   ],
   "source": [
    "mean_value_delta_health_score = df['Change_in_Health_Score'].mean()\n",
    "print(mean_value_delta_health_score)"
   ]
  },
  {
   "cell_type": "markdown",
   "id": "ea9e8cac",
   "metadata": {},
   "source": [
    "All participants saw an average increase of 3.3 in their health score by 3.3 points. This includes those who saw a decrease in their health score due to the vaccine."
   ]
  },
  {
   "cell_type": "markdown",
   "id": "7089d278",
   "metadata": {},
   "source": [
    "Therefore, the vaccine increased participants' health scores by an average of 3.3 points. To test if this number is reflective of what all humans (if given the vaccine) would experience, we would bootstrap the data."
   ]
  },
  {
   "cell_type": "code",
   "execution_count": 13,
   "id": "7b9b5bdc",
   "metadata": {},
   "outputs": [
    {
     "name": "stdout",
     "output_type": "stream",
     "text": [
      "Bootstrap Mean Estimate: 3.2473\n",
      "Bootstrap 95% Confidence Interval: [0.8 5.5]\n"
     ]
    }
   ],
   "source": [
    "import numpy as np\n",
    "\n",
    "def bootstrap(Change_in_Health_Score, num_samples = 10, statistic_func=np.mean, num_iterations=1000):\n",
    "    \n",
    "    bootstrap_statistic = []\n",
    "    \n",
    "    for i in range(num_iterations):\n",
    "        resample = np.random.choice(Change_in_Health_Score, size=num_samples, replace=True)\n",
    "        statistic = statistic_func(resample)\n",
    "        bootstrap_statistic.append(statistic)\n",
    "    return np.array(bootstrap_statistic)\n",
    "\n",
    "change_in_health_score = df['Change_in_Health_Score']\n",
    "bootstrap_means = bootstrap(Change_in_Health_Score = change_in_health_score, num_samples=len(change_in_health_score), statistic_func=np.mean, num_iterations=1000)\n",
    "    \n",
    "print(f\"Bootstrap Mean Estimate: {np.mean(bootstrap_means)}\")\n",
    "print(f\"Bootstrap 95% Confidence Interval: {np.percentile(bootstrap_means, [2.5, 97.5])}\")"
   ]
  },
  {
   "cell_type": "code",
   "execution_count": 22,
   "id": "cc0ea57e",
   "metadata": {},
   "outputs": [
    {
     "data": {
      "image/png": "[encoded data removed]"
     },
     "metadata": {},
     "output_type": "display_data"
    }
   ],
   "source": [
    "fig = px.histogram(bootstrap_means, nbins=100, title='Bootstrapped Means for Change in Health Score', labels={'Value':'Bootstrapped Means'})\n",
    "fig.update_layout(xaxis_title=\"Bootstrapped Means for the Change in Health Scores\", yaxis_title=\"Count\")\n",
    "fig.show(renderer=\"png\")"
   ]
  },
  {
   "cell_type": "markdown",
   "id": "3cb31532",
   "metadata": {},
   "source": [
    "After bootstrapping the dataset, it becomes clear that the overall average effect of the vaccine is a 3.25 point increase in health scores. Thus, we are 95% confident that this vaccine would increase patients' health scores by this amount. The Null Hypothesis of \"no effect\" can therefore be disregarded as a result of the calculations and explanations above."
   ]
  },
  {
   "cell_type": "markdown",
   "id": "3f138900",
   "metadata": {},
   "source": [
    "### ChatGPT Session Summary\n",
    "\n",
    "\"\n",
    "In our session, we covered several topics related to Python data manipulation and visualization using libraries like `plotly` and `pandas`. Here's a summary of the key points we discussed:\n",
    "\n",
    "1. **Creating Visualizations with Plotly**:\n",
    "   - You created **histograms**, **box plots**, and **stacked plots** using `plotly.express`.\n",
    "   - We worked on plotting **side-by-side box plots** and **stacked histograms** to compare different data columns such as `Initial_Health_Score` and `Final_Health_Score`.\n",
    "   - We fixed issues with specifying the correct data columns and formatting color schemes for visualizations.\n",
    "\n",
    "2. **Handling Data in Pandas**:\n",
    "   - We used **`melt`** to transform data from wide format to long format for easier plotting.\n",
    "   - You learned how to calculate the **difference between two columns** (`Initial_Health_Score` and `Final_Health_Score`) and display that change in plots.\n",
    "   - We used **conditional coloring** for visualizing whether changes were positive or negative.\n",
    "\n",
    "3. **Bootstrapping**:\n",
    "   - We discussed the concept of **bootstrapping** and implemented it using a Python function.\n",
    "   - You learned how to **resample data with replacement** and calculate bootstrapped statistics like the **mean** and **confidence intervals**.\n",
    "   - You correctly implemented a **bootstrapping function** for your dataset, specifically for the `Change_in_Health_Score` column.\n",
    "   \n",
    "4. **Bootstrapped Data Visualization**:\n",
    "   - We created a **histogram** to visualize the distribution of **bootstrapped means**.\n",
    "   - I helped resolve errors around the `x` argument and plot labeling.\n",
    "\n",
    "By the end, you successfully calculated bootstrapped statistics and visualized them using `plotly` histograms!\n",
    "\""
   ]
  },
  {
   "cell_type": "markdown",
   "id": "969d9629",
   "metadata": {},
   "source": [
    "### ChatGPT Session Link\n",
    "[STA130 - Week 04 - Homework - Question 8](https://chatgpt.com/share/6708a199-cc5c-8001-a0d6-7d8ba40ec2aa)"
   ]
  }
 ],
 "metadata": {
  "kernelspec": {
   "display_name": "Python 3 (ipykernel)",
   "language": "python",
   "name": "python3"
  },
  "language_info": {
   "codemirror_mode": {
    "name": "ipython",
    "version": 3
   },
   "file_extension": ".py",
   "mimetype": "text/x-python",
   "name": "python",
   "nbconvert_exporter": "python",
   "pygments_lexer": "ipython3",
   "version": "3.11.6"
  }
 },
 "nbformat": 4,
 "nbformat_minor": 5
}
